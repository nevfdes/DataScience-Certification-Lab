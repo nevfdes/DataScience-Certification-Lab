{
    "nbformat_minor": 2, 
    "cells": [
        {
            "source": "<a href=\"https://cognitiveclass.ai\"><img src = \"https://ibm.box.com/shared/static/ugcqz6ohbvff804xp84y4kqnvvk3bq1g.png\" width = 300, align = \"center\"></a>\n\n<h1 align=center><font size = 5>Assignment: Notebook for Peer Assignment</font></h1>", 
            "cell_type": "markdown", 
            "metadata": {}
        }, 
        {
            "source": "# Introduction\n\nUsing this Python notebook you will:\n1. Understand 3 Chicago datasets  \n1. Load the 3 datasets into 3 tables in a Db2 database\n1. Execute SQL queries to answer assignment questions ", 
            "cell_type": "markdown", 
            "metadata": {}
        }, 
        {
            "source": "## Understand the datasets \nTo complete the assignment problems in this notebook you will be using three datasets that are available on the city of Chicago's Data Portal:\n1. <a href=\"https://data.cityofchicago.org/Health-Human-Services/Census-Data-Selected-socioeconomic-indicators-in-C/kn9c-c2s2\">Socioeconomic Indicators in Chicago</a>\n1. <a href=\"https://data.cityofchicago.org/Education/Chicago-Public-Schools-Progress-Report-Cards-2011-/9xs2-f89t\">Chicago Public Schools</a>\n1. <a href=\"https://data.cityofchicago.org/Public-Safety/Crimes-2001-to-present/ijzp-q8t2\">Chicago Crime Data</a>\n\n### 1. Socioeconomic Indicators in Chicago\nThis dataset contains a selection of six socioeconomic indicators of public health significance and a \u201chardship index,\u201d for each Chicago community area, for the years 2008 \u2013 2012.\n\nFor this assignment you will use a snapshot of this dataset which can be downloaded from:\nhttps://ibm.box.com/shared/static/05c3415cbfbtfnr2fx4atenb2sd361ze.csv\n\nA detailed description of this dataset and the original dataset can be obtained from the Chicago Data Portal at:\nhttps://data.cityofchicago.org/Health-Human-Services/Census-Data-Selected-socioeconomic-indicators-in-C/kn9c-c2s2\n\n\n\n### 2. Chicago Public Schools\n\nThis dataset shows all school level performance data used to create CPS School Report Cards for the 2011-2012 school year. This dataset is provided by the city of Chicago's Data Portal.\n\nFor this assignment you will use a snapshot of this dataset which can be downloaded from:\nhttps://ibm.box.com/shared/static/f9gjvj1gjmxxzycdhplzt01qtz0s7ew7.csv\n\nA detailed description of this dataset and the original dataset can be obtained from the Chicago Data Portal at:\nhttps://data.cityofchicago.org/Education/Chicago-Public-Schools-Progress-Report-Cards-2011-/9xs2-f89t\n\n\n\n\n### 3. Chicago Crime Data \n\nThis dataset reflects reported incidents of crime (with the exception of murders where data exists for each victim) that occurred in the City of Chicago from 2001 to present, minus the most recent seven days. \n\nThis dataset is quite large - over 1.5GB in size with over 6.5 million rows. For the purposes of this assignment we will use a much smaller sample of this dataset which can be downloaded from:\nhttps://ibm.box.com/shared/static/svflyugsr9zbqy5bmowgswqemfpm1x7f.csv\n\nA detailed description of this dataset and the original dataset can be obtained from the Chicago Data Portal at:\nhttps://data.cityofchicago.org/Public-Safety/Crimes-2001-to-present/ijzp-q8t2\n", 
            "cell_type": "markdown", 
            "metadata": {}
        }, 
        {
            "source": "### Download the datasets\nIn many cases the dataset to be analyzed is available as a .CSV (comma separated values) file, perhaps on the internet. Click on the links below to download and save the datasets (.CSV files):\n1. __CENSUS_DATA:__ https://ibm.box.com/shared/static/05c3415cbfbtfnr2fx4atenb2sd361ze.csv\n1. __CHICAGO_PUBLIC_SCHOOLS__  https://ibm.box.com/shared/static/f9gjvj1gjmxxzycdhplzt01qtz0s7ew7.csv\n1. __CHICAGO_CRIME_DATA:__ https://ibm.box.com/shared/static/svflyugsr9zbqy5bmowgswqemfpm1x7f.csv\n\n__NOTE:__ Ensure you have downloaded the datasets using the links above instead of directly from the Chicago Data Portal. The versions linked here are subsets of the original datasets and have some of the column names modified to be more database friendly which will make it easier to complete this assignment.", 
            "cell_type": "markdown", 
            "metadata": {}
        }, 
        {
            "source": "### Store the datasets in database tables\nTo analyze the data using SQL, it first needs to be stored in the database.\n\nWhile it is easier to read the dataset into a Pandas dataframe and then PERSIST it into the database as we saw in Week 3 Lab 3, it results in mapping to default datatypes which may not be optimal for SQL querying. For example a long textual field may map to a CLOB instead of a VARCHAR. \n\nTherefore, __it is highly recommended to manually load the table using the database console LOAD tool, as indicated in Week 2 Lab 1 Part II__. The only difference with that lab is that in Step 5 of the instructions you will need to click on create \"(+) New Table\" and specify the name of the table you want to create and then click \"Next\". \n\n<img src = \"https://ibm.box.com/shared/static/uc4xjh1uxcc78ks1i18v668simioz4es.jpg\">\n\n##### Now open the Db2 console, open the LOAD tool, Select / Drag the .CSV file for the first dataset, Next create a New Table, and then follow the steps on-screen instructions to load the data. Name the new tables as folows:\n1. __CENSUS_DATA__\n1. __CHICAGO_PUBLIC_SCHOOLS__\n1. __CHICAGO_CRIME_DATA__", 
            "cell_type": "markdown", 
            "metadata": {}
        }, 
        {
            "source": "***\n**NF - Load the sql magic cells - db2re notebook**\n\n[IBM DB2 on Cloud](https://www.youtube.com/watch?v=bNfH0Wzx3is) ", 
            "cell_type": "markdown", 
            "metadata": {}
        }, 
        {
            "execution_count": 1, 
            "cell_type": "code", 
            "metadata": {}, 
            "outputs": [
                {
                    "output_type": "stream", 
                    "name": "stderr", 
                    "text": "--2019-04-05 14:37:00--  https://raw.githubusercontent.com/DB2-Samples/Db2re/master/db2re.ipynb\nResolving raw.githubusercontent.com (raw.githubusercontent.com)... 151.101.16.133\nConnecting to raw.githubusercontent.com (raw.githubusercontent.com)|151.101.16.133|:443... connected.\nHTTP request sent, awaiting response... 200 OK\nLength: 84825 (83K) [text/plain]\nSaving to: \u2018db2re.ipynb.1\u2019\n\n     0K .......... .......... .......... .......... .......... 60% 8.79M 0s\n    50K .......... .......... .......... ..                   100% 16.4M=0.008s\n\n2019-04-05 14:37:01 (10.8 MB/s) - \u2018db2re.ipynb.1\u2019 saved [84825/84825]\n\n"
                }
            ], 
            "source": "%%sh \nwget https://raw.githubusercontent.com/DB2-Samples/Db2re/master/db2re.ipynb"
        }, 
        {
            "execution_count": 2, 
            "cell_type": "code", 
            "metadata": {}, 
            "outputs": [
                {
                    "output_type": "stream", 
                    "name": "stdout", 
                    "text": "Requirement not upgraded as not directly required: qgrid in /home/dsxuser/.local/lib/python3.5/site-packages\nRequirement not upgraded as not directly required: notebook>=4.0.0 in /opt/conda/envs/DSX-Python35/lib/python3.5/site-packages (from qgrid)\nRequirement not upgraded as not directly required: ipywidgets>=7.0.0 in /opt/conda/envs/DSX-Python35/lib/python3.5/site-packages (from qgrid)\nRequirement not upgraded as not directly required: pandas>=0.18.0 in /opt/conda/envs/DSX-Python35/lib/python3.5/site-packages (from qgrid)\nRequirement not upgraded as not directly required: ipykernel>=4.5.1 in /opt/conda/envs/DSX-Python35/lib/python3.5/site-packages (from ipywidgets>=7.0.0->qgrid)\nRequirement not upgraded as not directly required: traitlets>=4.3.1 in /opt/conda/envs/DSX-Python35/lib/python3.5/site-packages (from ipywidgets>=7.0.0->qgrid)\nRequirement not upgraded as not directly required: nbformat>=4.2.0 in /opt/conda/envs/DSX-Python35/lib/python3.5/site-packages (from ipywidgets>=7.0.0->qgrid)\nRequirement not upgraded as not directly required: widgetsnbextension~=3.1.0 in /opt/conda/envs/DSX-Python35/lib/python3.5/site-packages (from ipywidgets>=7.0.0->qgrid)\nRequirement not upgraded as not directly required: ipython>=4.0.0 in /opt/conda/envs/DSX-Python35/lib/python3.5/site-packages (from ipywidgets>=7.0.0->qgrid)\nRequirement not upgraded as not directly required: python-dateutil>=2 in /opt/conda/envs/DSX-Python35/lib/python3.5/site-packages (from pandas>=0.18.0->qgrid)\nRequirement not upgraded as not directly required: pytz>=2011k in /opt/conda/envs/DSX-Python35/lib/python3.5/site-packages (from pandas>=0.18.0->qgrid)\nRequirement not upgraded as not directly required: numpy>=1.9.0 in /opt/conda/envs/DSX-Python35/lib/python3.5/site-packages (from pandas>=0.18.0->qgrid)\nRequirement not upgraded as not directly required: jupyter_client in /opt/conda/envs/DSX-Python35/lib/python3.5/site-packages (from ipykernel>=4.5.1->ipywidgets>=7.0.0->qgrid)\nRequirement not upgraded as not directly required: tornado>=4.0 in /opt/conda/envs/DSX-Python35/lib/python3.5/site-packages (from ipykernel>=4.5.1->ipywidgets>=7.0.0->qgrid)\nRequirement not upgraded as not directly required: ipython_genutils in /opt/conda/envs/DSX-Python35/lib/python3.5/site-packages (from traitlets>=4.3.1->ipywidgets>=7.0.0->qgrid)\nRequirement not upgraded as not directly required: six in /opt/conda/envs/DSX-Python35/lib/python3.5/site-packages (from traitlets>=4.3.1->ipywidgets>=7.0.0->qgrid)\nRequirement not upgraded as not directly required: decorator in /opt/conda/envs/DSX-Python35/lib/python3.5/site-packages (from traitlets>=4.3.1->ipywidgets>=7.0.0->qgrid)\nRequirement not upgraded as not directly required: jsonschema!=2.5.0,>=2.4 in /opt/conda/envs/DSX-Python35/lib/python3.5/site-packages (from nbformat>=4.2.0->ipywidgets>=7.0.0->qgrid)\nRequirement not upgraded as not directly required: jupyter_core in /opt/conda/envs/DSX-Python35/lib/python3.5/site-packages (from nbformat>=4.2.0->ipywidgets>=7.0.0->qgrid)\nRequirement not upgraded as not directly required: setuptools>=18.5 in /opt/conda/envs/DSX-Python35/lib/python3.5/site-packages (from ipython>=4.0.0->ipywidgets>=7.0.0->qgrid)\nRequirement not upgraded as not directly required: jedi>=0.10 in /opt/conda/envs/DSX-Python35/lib/python3.5/site-packages (from ipython>=4.0.0->ipywidgets>=7.0.0->qgrid)\nRequirement not upgraded as not directly required: pickleshare in /opt/conda/envs/DSX-Python35/lib/python3.5/site-packages (from ipython>=4.0.0->ipywidgets>=7.0.0->qgrid)\nRequirement not upgraded as not directly required: simplegeneric>0.8 in /opt/conda/envs/DSX-Python35/lib/python3.5/site-packages (from ipython>=4.0.0->ipywidgets>=7.0.0->qgrid)\nRequirement not upgraded as not directly required: prompt_toolkit<2.0.0,>=1.0.4 in /opt/conda/envs/DSX-Python35/lib/python3.5/site-packages (from ipython>=4.0.0->ipywidgets>=7.0.0->qgrid)\nRequirement not upgraded as not directly required: pygments in /opt/conda/envs/DSX-Python35/lib/python3.5/site-packages (from ipython>=4.0.0->ipywidgets>=7.0.0->qgrid)\nRequirement not upgraded as not directly required: pexpect in /opt/conda/envs/DSX-Python35/lib/python3.5/site-packages (from ipython>=4.0.0->ipywidgets>=7.0.0->qgrid)\nRequirement not upgraded as not directly required: pyzmq>=13 in /opt/conda/envs/DSX-Python35/lib/python3.5/site-packages (from jupyter_client->ipykernel>=4.5.1->ipywidgets>=7.0.0->qgrid)\nRequirement not upgraded as not directly required: wcwidth in /opt/conda/envs/DSX-Python35/lib/python3.5/site-packages (from prompt_toolkit<2.0.0,>=1.0.4->ipython>=4.0.0->ipywidgets>=7.0.0->qgrid)\n"
                }
            ], 
            "source": "!pip install --user qgrid"
        }, 
        {
            "execution_count": 3, 
            "cell_type": "code", 
            "metadata": {}, 
            "outputs": [
                {
                    "output_type": "stream", 
                    "name": "stdout", 
                    "text": "Pixiedust database opened successfully\n"
                }, 
                {
                    "output_type": "display_data", 
                    "data": {
                        "text/html": "\n        <div style=\"margin:10px\">\n            <a href=\"https://github.com/ibm-watson-data-lab/pixiedust\" target=\"_new\">\n                <img src=\"https://github.com/ibm-watson-data-lab/pixiedust/raw/master/docs/_static/pd_icon32.png\" style=\"float:left;margin-right:10px\"/>\n            </a>\n            <span>Pixiedust version 1.1.15</span>\n        </div>\n        ", 
                        "text/plain": "<IPython.core.display.HTML object>"
                    }, 
                    "metadata": {}
                }, 
                {
                    "output_type": "stream", 
                    "name": "stdout", 
                    "text": "DB2 Extensions Loaded.\n"
                }, 
                {
                    "output_type": "display_data", 
                    "data": {
                        "text/html": "<style>\n  table {margin-left: 0 !important; text-align: left;}\n</style>", 
                        "text/plain": "<IPython.core.display.HTML object>"
                    }, 
                    "metadata": {}
                }
            ], 
            "source": "%run db2re.ipynb"
        }, 
        {
            "execution_count": 4, 
            "cell_type": "code", 
            "metadata": {}, 
            "outputs": [
                {
                    "output_type": "stream", 
                    "name": "stdout", 
                    "text": "Pixiedust will not collect anonymous install statistics.\n"
                }
            ], 
            "source": "pixiedust.optOut()"
        }, 
        {
            "source": "### Connect to the database \nLet us first load the SQL extension and establish a connection with the database", 
            "cell_type": "markdown", 
            "metadata": {}
        }, 
        {
            "execution_count": 5, 
            "cell_type": "code", 
            "metadata": {}, 
            "outputs": [], 
            "source": "# The code was removed by Watson Studio for sharing."
        }, 
        {
            "execution_count": 6, 
            "cell_type": "code", 
            "metadata": {}, 
            "outputs": [
                {
                    "output_type": "stream", 
                    "name": "stdout", 
                    "text": "Command completed.\n"
                }
            ], 
            "source": "%sql connect credentials db2creds"
        }, 
        {
            "source": "In the next cell enter your db2 connection string. Recall you created Service Credentials for your Db2 instance in first lab in Week 3. From the __uri__ field of your Db2 service credentials copy everything after db2:// (except the double quote at the end) and paste it in the cell below after ibm_db_sa://\n\n<img src =\"https://ibm.box.com/shared/static/hzhkvdyinpupm2wfx49lkr71q9swbpec.jpg\">", 
            "cell_type": "markdown", 
            "metadata": {}
        }, 
        {
            "execution_count": 27, 
            "cell_type": "code", 
            "metadata": {}, 
            "outputs": [], 
            "source": "# Remember the connection string is of the format:\n# %sql ibm_db_sa://my-username:my-password@my-hostname:my-port/my-db-name\n# Enter the connection string for your Db2 on Cloud database instance below\n#%sql ibm_db_sa://"
        }, 
        {
            "source": "## Problems\nNow write and execute SQL queries to solve assignment problems\n\n### Problem 1\n\n##### Find the total number of crimes recorded in the CRIME table", 
            "cell_type": "markdown", 
            "metadata": {}
        }, 
        {
            "execution_count": 8, 
            "cell_type": "code", 
            "metadata": {}, 
            "outputs": [
                {
                    "execution_count": 8, 
                    "metadata": {}, 
                    "data": {
                        "text/html": "<div>\n<style scoped>\n    .dataframe tbody tr th:only-of-type {\n        vertical-align: middle;\n    }\n\n    .dataframe tbody tr th {\n        vertical-align: top;\n    }\n\n    .dataframe thead th {\n        text-align: right;\n    }\n</style>\n<table border=\"1\" class=\"dataframe\">\n  <thead>\n    <tr style=\"text-align: right;\">\n      <th></th>\n      <th>TOTAL_CRIMES</th>\n    </tr>\n  </thead>\n  <tbody>\n    <tr>\n      <th>0</th>\n      <td>533</td>\n    </tr>\n  </tbody>\n</table>\n</div>", 
                        "text/plain": "   TOTAL_CRIMES\n0           533"
                    }, 
                    "output_type": "execute_result"
                }
            ], 
            "source": "# Rows in Crime table\n%sql SELECT COUNT(*) AS TOTAL_CRIMES FROM CHICAGO_CRIME_DATA"
        }, 
        {
            "source": "### Problem 2\n\n##### Retrieve first 10 rows from the CRIME table\n", 
            "cell_type": "markdown", 
            "metadata": {}
        }, 
        {
            "execution_count": 11, 
            "cell_type": "code", 
            "metadata": {
                "scrolled": true
            }, 
            "outputs": [
                {
                    "execution_count": 11, 
                    "metadata": {}, 
                    "data": {
                        "text/html": "<div>\n<style scoped>\n    .dataframe tbody tr th:only-of-type {\n        vertical-align: middle;\n    }\n\n    .dataframe tbody tr th {\n        vertical-align: top;\n    }\n\n    .dataframe thead th {\n        text-align: right;\n    }\n</style>\n<table border=\"1\" class=\"dataframe\">\n  <thead>\n    <tr style=\"text-align: right;\">\n      <th></th>\n      <th>ID</th>\n      <th>CASE_NUMBER</th>\n      <th>DATE</th>\n      <th>BLOCK</th>\n      <th>IUCR</th>\n      <th>PRIMARY_TYPE</th>\n      <th>DESCRIPTION</th>\n      <th>LOCATION_DESCRIPTION</th>\n      <th>ARREST</th>\n      <th>DOMESTIC</th>\n      <th>...</th>\n      <th>WARD</th>\n      <th>COMMUNITY_AREA_NUMBER</th>\n      <th>FBICODE</th>\n      <th>X_COORDINATE</th>\n      <th>Y_COORDINATE</th>\n      <th>YEAR</th>\n      <th>UPDATEDON</th>\n      <th>LATITUDE</th>\n      <th>LONGITUDE</th>\n      <th>LOCATION</th>\n    </tr>\n  </thead>\n  <tbody>\n    <tr>\n      <th>0</th>\n      <td>3512276</td>\n      <td>HK587712</td>\n      <td>08/28/2004 05:50:56 PM</td>\n      <td>047XX S KEDZIE AVE</td>\n      <td>890</td>\n      <td>THEFT</td>\n      <td>FROM BUILDING</td>\n      <td>SMALL RETAIL STORE</td>\n      <td>FALSE</td>\n      <td>FALSE</td>\n      <td>...</td>\n      <td>14</td>\n      <td>58</td>\n      <td>6</td>\n      <td>1155838</td>\n      <td>1873050</td>\n      <td>2004</td>\n      <td>02/10/2018 03:50:01 PM</td>\n      <td>41.807440</td>\n      <td>-87.703956</td>\n      <td>(41.8074405, -87.703955849)</td>\n    </tr>\n    <tr>\n      <th>1</th>\n      <td>3406613</td>\n      <td>HK456306</td>\n      <td>06/26/2004 12:40:00 PM</td>\n      <td>009XX N CENTRAL PARK AVE</td>\n      <td>820</td>\n      <td>THEFT</td>\n      <td>$500 AND UNDER</td>\n      <td>OTHER</td>\n      <td>FALSE</td>\n      <td>FALSE</td>\n      <td>...</td>\n      <td>27</td>\n      <td>23</td>\n      <td>6</td>\n      <td>1152206</td>\n      <td>1906127</td>\n      <td>2004</td>\n      <td>02/28/2018 03:56:25 PM</td>\n      <td>41.898280</td>\n      <td>-87.716406</td>\n      <td>(41.898279962, -87.716405505)</td>\n    </tr>\n    <tr>\n      <th>2</th>\n      <td>8002131</td>\n      <td>HT233595</td>\n      <td>04/04/2011 05:45:00 AM</td>\n      <td>043XX S WABASH AVE</td>\n      <td>820</td>\n      <td>THEFT</td>\n      <td>$500 AND UNDER</td>\n      <td>NURSING HOME/RETIREMENT HOME</td>\n      <td>FALSE</td>\n      <td>FALSE</td>\n      <td>...</td>\n      <td>3</td>\n      <td>38</td>\n      <td>6</td>\n      <td>1177436</td>\n      <td>1876313</td>\n      <td>2011</td>\n      <td>02/10/2018 03:50:01 PM</td>\n      <td>41.815933</td>\n      <td>-87.624642</td>\n      <td>(41.815933131, -87.624642127)</td>\n    </tr>\n    <tr>\n      <th>3</th>\n      <td>7903289</td>\n      <td>HT133522</td>\n      <td>12/30/2010 04:30:00 PM</td>\n      <td>083XX S KINGSTON AVE</td>\n      <td>840</td>\n      <td>THEFT</td>\n      <td>FINANCIAL ID THEFT: OVER $300</td>\n      <td>RESIDENCE</td>\n      <td>FALSE</td>\n      <td>FALSE</td>\n      <td>...</td>\n      <td>7</td>\n      <td>46</td>\n      <td>6</td>\n      <td>1194622</td>\n      <td>1850125</td>\n      <td>2010</td>\n      <td>02/10/2018 03:50:01 PM</td>\n      <td>41.743665</td>\n      <td>-87.562463</td>\n      <td>(41.743665322, -87.562462756)</td>\n    </tr>\n    <tr>\n      <th>4</th>\n      <td>10402076</td>\n      <td>HZ138551</td>\n      <td>02/02/2016 07:30:00 PM</td>\n      <td>033XX W 66TH ST</td>\n      <td>820</td>\n      <td>THEFT</td>\n      <td>$500 AND UNDER</td>\n      <td>ALLEY</td>\n      <td>FALSE</td>\n      <td>FALSE</td>\n      <td>...</td>\n      <td>15</td>\n      <td>66</td>\n      <td>6</td>\n      <td>1155240</td>\n      <td>1860661</td>\n      <td>2016</td>\n      <td>02/10/2018 03:50:01 PM</td>\n      <td>41.773455</td>\n      <td>-87.706480</td>\n      <td>(41.773455295, -87.706480471)</td>\n    </tr>\n    <tr>\n      <th>5</th>\n      <td>7732712</td>\n      <td>HS540106</td>\n      <td>09/29/2010 07:59:00 AM</td>\n      <td>006XX W CHICAGO AVE</td>\n      <td>810</td>\n      <td>THEFT</td>\n      <td>OVER $500</td>\n      <td>PARKING LOT/GARAGE(NON.RESID.)</td>\n      <td>FALSE</td>\n      <td>FALSE</td>\n      <td>...</td>\n      <td>27</td>\n      <td>24</td>\n      <td>6</td>\n      <td>1171668</td>\n      <td>1905607</td>\n      <td>2010</td>\n      <td>02/10/2018 03:50:01 PM</td>\n      <td>41.896447</td>\n      <td>-87.644939</td>\n      <td>(41.896446772, -87.644938678)</td>\n    </tr>\n    <tr>\n      <th>6</th>\n      <td>10769475</td>\n      <td>HZ534771</td>\n      <td>11/30/2016 01:15:00 AM</td>\n      <td>050XX N KEDZIE AVE</td>\n      <td>810</td>\n      <td>THEFT</td>\n      <td>OVER $500</td>\n      <td>STREET</td>\n      <td>FALSE</td>\n      <td>FALSE</td>\n      <td>...</td>\n      <td>33</td>\n      <td>14</td>\n      <td>6</td>\n      <td>1154133</td>\n      <td>1933314</td>\n      <td>2016</td>\n      <td>02/10/2018 03:50:01 PM</td>\n      <td>41.972845</td>\n      <td>-87.708600</td>\n      <td>(41.972844913, -87.708600079)</td>\n    </tr>\n    <tr>\n      <th>7</th>\n      <td>4494340</td>\n      <td>HL793243</td>\n      <td>12/16/2005 04:45:00 PM</td>\n      <td>005XX E PERSHING RD</td>\n      <td>860</td>\n      <td>THEFT</td>\n      <td>RETAIL THEFT</td>\n      <td>GROCERY FOOD STORE</td>\n      <td>TRUE</td>\n      <td>FALSE</td>\n      <td>...</td>\n      <td>3</td>\n      <td>38</td>\n      <td>6</td>\n      <td>1180448</td>\n      <td>1879234</td>\n      <td>2005</td>\n      <td>02/28/2018 03:56:25 PM</td>\n      <td>41.823880</td>\n      <td>-87.613504</td>\n      <td>(41.823879885, -87.613503857)</td>\n    </tr>\n    <tr>\n      <th>8</th>\n      <td>3778925</td>\n      <td>HL149610</td>\n      <td>01/28/2005 05:00:00 PM</td>\n      <td>100XX S WASHTENAW AVE</td>\n      <td>810</td>\n      <td>THEFT</td>\n      <td>OVER $500</td>\n      <td>STREET</td>\n      <td>FALSE</td>\n      <td>FALSE</td>\n      <td>...</td>\n      <td>19</td>\n      <td>72</td>\n      <td>6</td>\n      <td>1160129</td>\n      <td>1838040</td>\n      <td>2005</td>\n      <td>02/28/2018 03:56:25 PM</td>\n      <td>41.711281</td>\n      <td>-87.689179</td>\n      <td>(41.711280513, -87.689179097)</td>\n    </tr>\n    <tr>\n      <th>9</th>\n      <td>3324217</td>\n      <td>HK361551</td>\n      <td>05/13/2004 02:15:00 PM</td>\n      <td>033XX W BELMONT AVE</td>\n      <td>820</td>\n      <td>THEFT</td>\n      <td>$500 AND UNDER</td>\n      <td>SMALL RETAIL STORE</td>\n      <td>FALSE</td>\n      <td>FALSE</td>\n      <td>...</td>\n      <td>35</td>\n      <td>21</td>\n      <td>6</td>\n      <td>1153590</td>\n      <td>1921084</td>\n      <td>2004</td>\n      <td>02/28/2018 03:56:25 PM</td>\n      <td>41.939296</td>\n      <td>-87.710923</td>\n      <td>(41.939295821, -87.710923442)</td>\n    </tr>\n  </tbody>\n</table>\n<p>10 rows \u00d7 22 columns</p>\n</div>", 
                        "text/plain": "         ID CASE_NUMBER                    DATE                     BLOCK  \\\n0   3512276    HK587712  08/28/2004 05:50:56 PM        047XX S KEDZIE AVE   \n1   3406613    HK456306  06/26/2004 12:40:00 PM  009XX N CENTRAL PARK AVE   \n2   8002131    HT233595  04/04/2011 05:45:00 AM        043XX S WABASH AVE   \n3   7903289    HT133522  12/30/2010 04:30:00 PM      083XX S KINGSTON AVE   \n4  10402076    HZ138551  02/02/2016 07:30:00 PM           033XX W 66TH ST   \n5   7732712    HS540106  09/29/2010 07:59:00 AM       006XX W CHICAGO AVE   \n6  10769475    HZ534771  11/30/2016 01:15:00 AM        050XX N KEDZIE AVE   \n7   4494340    HL793243  12/16/2005 04:45:00 PM       005XX E PERSHING RD   \n8   3778925    HL149610  01/28/2005 05:00:00 PM     100XX S WASHTENAW AVE   \n9   3324217    HK361551  05/13/2004 02:15:00 PM       033XX W BELMONT AVE   \n\n   IUCR PRIMARY_TYPE                    DESCRIPTION  \\\n0   890        THEFT                  FROM BUILDING   \n1   820        THEFT                 $500 AND UNDER   \n2   820        THEFT                 $500 AND UNDER   \n3   840        THEFT  FINANCIAL ID THEFT: OVER $300   \n4   820        THEFT                 $500 AND UNDER   \n5   810        THEFT                      OVER $500   \n6   810        THEFT                      OVER $500   \n7   860        THEFT                   RETAIL THEFT   \n8   810        THEFT                      OVER $500   \n9   820        THEFT                 $500 AND UNDER   \n\n             LOCATION_DESCRIPTION ARREST DOMESTIC  \\\n0              SMALL RETAIL STORE  FALSE    FALSE   \n1                           OTHER  FALSE    FALSE   \n2    NURSING HOME/RETIREMENT HOME  FALSE    FALSE   \n3                       RESIDENCE  FALSE    FALSE   \n4                           ALLEY  FALSE    FALSE   \n5  PARKING LOT/GARAGE(NON.RESID.)  FALSE    FALSE   \n6                          STREET  FALSE    FALSE   \n7              GROCERY FOOD STORE   TRUE    FALSE   \n8                          STREET  FALSE    FALSE   \n9              SMALL RETAIL STORE  FALSE    FALSE   \n\n               ...                WARD  COMMUNITY_AREA_NUMBER  FBICODE  \\\n0              ...                  14                     58        6   \n1              ...                  27                     23        6   \n2              ...                   3                     38        6   \n3              ...                   7                     46        6   \n4              ...                  15                     66        6   \n5              ...                  27                     24        6   \n6              ...                  33                     14        6   \n7              ...                   3                     38        6   \n8              ...                  19                     72        6   \n9              ...                  35                     21        6   \n\n   X_COORDINATE  Y_COORDINATE  YEAR               UPDATEDON   LATITUDE  \\\n0       1155838       1873050  2004  02/10/2018 03:50:01 PM  41.807440   \n1       1152206       1906127  2004  02/28/2018 03:56:25 PM  41.898280   \n2       1177436       1876313  2011  02/10/2018 03:50:01 PM  41.815933   \n3       1194622       1850125  2010  02/10/2018 03:50:01 PM  41.743665   \n4       1155240       1860661  2016  02/10/2018 03:50:01 PM  41.773455   \n5       1171668       1905607  2010  02/10/2018 03:50:01 PM  41.896447   \n6       1154133       1933314  2016  02/10/2018 03:50:01 PM  41.972845   \n7       1180448       1879234  2005  02/28/2018 03:56:25 PM  41.823880   \n8       1160129       1838040  2005  02/28/2018 03:56:25 PM  41.711281   \n9       1153590       1921084  2004  02/28/2018 03:56:25 PM  41.939296   \n\n   LONGITUDE                       LOCATION  \n0 -87.703956    (41.8074405, -87.703955849)  \n1 -87.716406  (41.898279962, -87.716405505)  \n2 -87.624642  (41.815933131, -87.624642127)  \n3 -87.562463  (41.743665322, -87.562462756)  \n4 -87.706480  (41.773455295, -87.706480471)  \n5 -87.644939  (41.896446772, -87.644938678)  \n6 -87.708600  (41.972844913, -87.708600079)  \n7 -87.613504  (41.823879885, -87.613503857)  \n8 -87.689179  (41.711280513, -87.689179097)  \n9 -87.710923  (41.939295821, -87.710923442)  \n\n[10 rows x 22 columns]"
                    }, 
                    "output_type": "execute_result"
                }
            ], 
            "source": "%sql SELECT * FROM CHICAGO_CRIME_DATA FETCH FIRST 10 ROWS ONLY"
        }, 
        {
            "source": "### Problem 3\n\n##### How many crimes involve an arrest?", 
            "cell_type": "markdown", 
            "metadata": {}
        }, 
        {
            "execution_count": 12, 
            "cell_type": "code", 
            "metadata": {}, 
            "outputs": [
                {
                    "execution_count": 12, 
                    "metadata": {}, 
                    "data": {
                        "text/html": "<div>\n<style scoped>\n    .dataframe tbody tr th:only-of-type {\n        vertical-align: middle;\n    }\n\n    .dataframe tbody tr th {\n        vertical-align: top;\n    }\n\n    .dataframe thead th {\n        text-align: right;\n    }\n</style>\n<table border=\"1\" class=\"dataframe\">\n  <thead>\n    <tr style=\"text-align: right;\">\n      <th></th>\n      <th>CRIME_ARRESTED</th>\n    </tr>\n  </thead>\n  <tbody>\n    <tr>\n      <th>0</th>\n      <td>163</td>\n    </tr>\n  </tbody>\n</table>\n</div>", 
                        "text/plain": "   CRIME_ARRESTED\n0             163"
                    }, 
                    "output_type": "execute_result"
                }
            ], 
            "source": "%sql SELECT COUNT(*) AS CRIME_ARRESTED FROM CHICAGO_CRIME_DATA WHERE ARREST = 'TRUE'"
        }, 
        {
            "source": "### Problem 4\n\n##### Which unique types of crimes have been recorded at GAS STATION locations?\n", 
            "cell_type": "markdown", 
            "metadata": {}
        }, 
        {
            "execution_count": 15, 
            "cell_type": "code", 
            "metadata": {}, 
            "outputs": [
                {
                    "execution_count": 15, 
                    "metadata": {}, 
                    "data": {
                        "text/html": "<div>\n<style scoped>\n    .dataframe tbody tr th:only-of-type {\n        vertical-align: middle;\n    }\n\n    .dataframe tbody tr th {\n        vertical-align: top;\n    }\n\n    .dataframe thead th {\n        text-align: right;\n    }\n</style>\n<table border=\"1\" class=\"dataframe\">\n  <thead>\n    <tr style=\"text-align: right;\">\n      <th></th>\n      <th>PRIMARY_TYPE</th>\n    </tr>\n  </thead>\n  <tbody>\n    <tr>\n      <th>0</th>\n      <td>CRIMINAL TRESPASS</td>\n    </tr>\n    <tr>\n      <th>1</th>\n      <td>NARCOTICS</td>\n    </tr>\n    <tr>\n      <th>2</th>\n      <td>ROBBERY</td>\n    </tr>\n    <tr>\n      <th>3</th>\n      <td>THEFT</td>\n    </tr>\n  </tbody>\n</table>\n</div>", 
                        "text/plain": "        PRIMARY_TYPE\n0  CRIMINAL TRESPASS\n1          NARCOTICS\n2            ROBBERY\n3              THEFT"
                    }, 
                    "output_type": "execute_result"
                }
            ], 
            "source": "%sql SELECT DISTINCT(PRIMARY_TYPE) FROM CHICAGO_CRIME_DATA WHERE LOCATION_DESCRIPTION = 'GAS STATION'"
        }, 
        {
            "source": "Hint: Which column lists types of crimes e.g. THEFT?", 
            "cell_type": "markdown", 
            "metadata": {}
        }, 
        {
            "source": "### Problem 5\n\n##### In the CENUS_DATA table list all Community Areas whose names start with the letter \u2018B\u2019.", 
            "cell_type": "markdown", 
            "metadata": {}
        }, 
        {
            "execution_count": 16, 
            "cell_type": "code", 
            "metadata": {}, 
            "outputs": [
                {
                    "execution_count": 16, 
                    "metadata": {}, 
                    "data": {
                        "text/html": "<div>\n<style scoped>\n    .dataframe tbody tr th:only-of-type {\n        vertical-align: middle;\n    }\n\n    .dataframe tbody tr th {\n        vertical-align: top;\n    }\n\n    .dataframe thead th {\n        text-align: right;\n    }\n</style>\n<table border=\"1\" class=\"dataframe\">\n  <thead>\n    <tr style=\"text-align: right;\">\n      <th></th>\n      <th>COMMUNITY_AREA_NAME</th>\n    </tr>\n  </thead>\n  <tbody>\n    <tr>\n      <th>0</th>\n      <td>Belmont Cragin</td>\n    </tr>\n    <tr>\n      <th>1</th>\n      <td>Burnside</td>\n    </tr>\n    <tr>\n      <th>2</th>\n      <td>Brighton Park</td>\n    </tr>\n    <tr>\n      <th>3</th>\n      <td>Bridgeport</td>\n    </tr>\n    <tr>\n      <th>4</th>\n      <td>Beverly</td>\n    </tr>\n  </tbody>\n</table>\n</div>", 
                        "text/plain": "  COMMUNITY_AREA_NAME\n0      Belmont Cragin\n1            Burnside\n2       Brighton Park\n3          Bridgeport\n4             Beverly"
                    }, 
                    "output_type": "execute_result"
                }
            ], 
            "source": "%sql SELECT COMMUNITY_AREA_NAME FROM CENSUS_DATA WHERE COMMUNITY_AREA_NAME LIKE 'B%'"
        }, 
        {
            "source": "### Problem 6\n\n##### Which schools in Community Areas 10 to 15 are healthy school certified?", 
            "cell_type": "markdown", 
            "metadata": {}
        }, 
        {
            "execution_count": 20, 
            "cell_type": "code", 
            "metadata": {}, 
            "outputs": [
                {
                    "execution_count": 20, 
                    "metadata": {}, 
                    "data": {
                        "text/html": "<div>\n<style scoped>\n    .dataframe tbody tr th:only-of-type {\n        vertical-align: middle;\n    }\n\n    .dataframe tbody tr th {\n        vertical-align: top;\n    }\n\n    .dataframe thead th {\n        text-align: right;\n    }\n</style>\n<table border=\"1\" class=\"dataframe\">\n  <thead>\n    <tr style=\"text-align: right;\">\n      <th></th>\n      <th>NAME_OF_SCHOOL</th>\n      <th>COMMUNITY_AREA_NUMBER</th>\n    </tr>\n  </thead>\n  <tbody>\n    <tr>\n      <th>0</th>\n      <td>Rufus M Hitch Elementary School</td>\n      <td>10</td>\n    </tr>\n  </tbody>\n</table>\n</div>", 
                        "text/plain": "                    NAME_OF_SCHOOL  COMMUNITY_AREA_NUMBER\n0  Rufus M Hitch Elementary School                     10"
                    }, 
                    "output_type": "execute_result"
                }
            ], 
            "source": "%%sql\nSELECT NAME_OF_SCHOOL, COMMUNITY_AREA_NUMBER FROM CHICAGO_PUBLIC_SCHOOLS WHERE HEALTHY_SCHOOL_CERTIFIED = 'Yes' AND COMMUNITY_AREA_NUMBER BETWEEN 10 AND 15 "
        }, 
        {
            "source": "### Problem 7\n\n##### What is the average school Safety Score? ", 
            "cell_type": "markdown", 
            "metadata": {}
        }, 
        {
            "execution_count": 21, 
            "cell_type": "code", 
            "metadata": {}, 
            "outputs": [
                {
                    "execution_count": 21, 
                    "metadata": {}, 
                    "data": {
                        "text/html": "<div>\n<style scoped>\n    .dataframe tbody tr th:only-of-type {\n        vertical-align: middle;\n    }\n\n    .dataframe tbody tr th {\n        vertical-align: top;\n    }\n\n    .dataframe thead th {\n        text-align: right;\n    }\n</style>\n<table border=\"1\" class=\"dataframe\">\n  <thead>\n    <tr style=\"text-align: right;\">\n      <th></th>\n      <th>AVERAGE_SAFETY_SCORE</th>\n    </tr>\n  </thead>\n  <tbody>\n    <tr>\n      <th>0</th>\n      <td>49.5</td>\n    </tr>\n  </tbody>\n</table>\n</div>", 
                        "text/plain": "   AVERAGE_SAFETY_SCORE\n0                  49.5"
                    }, 
                    "output_type": "execute_result"
                }
            ], 
            "source": "%sql SELECT ROUND(AVG(SAFETY_SCORE), 2) AS AVERAGE_SAFETY_SCORE FROM CHICAGO_PUBLIC_SCHOOLS"
        }, 
        {
            "source": "### Problem 8\n\n##### List the top 5 Community Areas by average College Enrollment [number of students] ", 
            "cell_type": "markdown", 
            "metadata": {}
        }, 
        {
            "execution_count": 23, 
            "cell_type": "code", 
            "metadata": {}, 
            "outputs": [
                {
                    "execution_count": 23, 
                    "metadata": {}, 
                    "data": {
                        "text/html": "<div>\n<style scoped>\n    .dataframe tbody tr th:only-of-type {\n        vertical-align: middle;\n    }\n\n    .dataframe tbody tr th {\n        vertical-align: top;\n    }\n\n    .dataframe thead th {\n        text-align: right;\n    }\n</style>\n<table border=\"1\" class=\"dataframe\">\n  <thead>\n    <tr style=\"text-align: right;\">\n      <th></th>\n      <th>COMMUNITY_AREA_NAME</th>\n      <th>AVERAGE_COLLEGE_ENROLLMENT</th>\n    </tr>\n  </thead>\n  <tbody>\n    <tr>\n      <th>0</th>\n      <td>ARCHER HEIGHTS</td>\n      <td>2411.500000</td>\n    </tr>\n    <tr>\n      <th>1</th>\n      <td>MONTCLARE</td>\n      <td>1317.000000</td>\n    </tr>\n    <tr>\n      <th>2</th>\n      <td>WEST ELSDON</td>\n      <td>1233.333333</td>\n    </tr>\n    <tr>\n      <th>3</th>\n      <td>BRIGHTON PARK</td>\n      <td>1205.875000</td>\n    </tr>\n    <tr>\n      <th>4</th>\n      <td>BELMONT CRAGIN</td>\n      <td>1198.833333</td>\n    </tr>\n  </tbody>\n</table>\n</div>", 
                        "text/plain": "  COMMUNITY_AREA_NAME  AVERAGE_COLLEGE_ENROLLMENT\n0      ARCHER HEIGHTS                 2411.500000\n1           MONTCLARE                 1317.000000\n2         WEST ELSDON                 1233.333333\n3       BRIGHTON PARK                 1205.875000\n4      BELMONT CRAGIN                 1198.833333"
                    }, 
                    "output_type": "execute_result"
                }
            ], 
            "source": "%%sql \nSELECT COMMUNITY_AREA_NAME, AVG(COLLEGE_ENROLLMENT) AS AVERAGE_COLLEGE_ENROLLMENT FROM CHICAGO_PUBLIC_SCHOOLS\nGROUP BY COMMUNITY_AREA_NAME\nORDER BY AVERAGE_COLLEGE_ENROLLMENT DESC FETCH FIRST 5 ROWS ONLY"
        }, 
        {
            "source": "### Problem 9\n\n##### Use a sub-query to determine which Community Area has the least value for school Safety Score? ", 
            "cell_type": "markdown", 
            "metadata": {}
        }, 
        {
            "execution_count": 24, 
            "cell_type": "code", 
            "metadata": {}, 
            "outputs": [
                {
                    "execution_count": 24, 
                    "metadata": {}, 
                    "data": {
                        "text/html": "<div>\n<style scoped>\n    .dataframe tbody tr th:only-of-type {\n        vertical-align: middle;\n    }\n\n    .dataframe tbody tr th {\n        vertical-align: top;\n    }\n\n    .dataframe thead th {\n        text-align: right;\n    }\n</style>\n<table border=\"1\" class=\"dataframe\">\n  <thead>\n    <tr style=\"text-align: right;\">\n      <th></th>\n      <th>COMMUNITY_AREA_NAME</th>\n    </tr>\n  </thead>\n  <tbody>\n    <tr>\n      <th>0</th>\n      <td>WASHINGTON PARK</td>\n    </tr>\n  </tbody>\n</table>\n</div>", 
                        "text/plain": "  COMMUNITY_AREA_NAME\n0     WASHINGTON PARK"
                    }, 
                    "output_type": "execute_result"
                }
            ], 
            "source": "%sql SELECT COMMUNITY_AREA_NAME FROM CHICAGO_PUBLIC_SCHOOLS WHERE SAFETY_SCORE IN (SELECT MIN(SAFETY_SCORE) FROM CHICAGO_PUBLIC_SCHOOLS)"
        }, 
        {
            "source": "### Problem 10\n\n##### [Without using an explicit JOIN operator] Find the Per Capita Income of the Community Area which has a school Safety Score of 1.", 
            "cell_type": "markdown", 
            "metadata": {}
        }, 
        {
            "execution_count": 25, 
            "cell_type": "code", 
            "metadata": {}, 
            "outputs": [
                {
                    "execution_count": 25, 
                    "metadata": {}, 
                    "data": {
                        "text/html": "<div>\n<style scoped>\n    .dataframe tbody tr th:only-of-type {\n        vertical-align: middle;\n    }\n\n    .dataframe tbody tr th {\n        vertical-align: top;\n    }\n\n    .dataframe thead th {\n        text-align: right;\n    }\n</style>\n<table border=\"1\" class=\"dataframe\">\n  <thead>\n    <tr style=\"text-align: right;\">\n      <th></th>\n      <th>COMMUNITY_AREA_NAME</th>\n      <th>SAFETY_SCORE</th>\n      <th>PER_CAPITA_INCOME</th>\n    </tr>\n  </thead>\n  <tbody>\n    <tr>\n      <th>0</th>\n      <td>WASHINGTON PARK</td>\n      <td>1</td>\n      <td>13785</td>\n    </tr>\n  </tbody>\n</table>\n</div>", 
                        "text/plain": "  COMMUNITY_AREA_NAME  SAFETY_SCORE  PER_CAPITA_INCOME\n0     WASHINGTON PARK             1              13785"
                    }, 
                    "output_type": "execute_result"
                }
            ], 
            "source": "%%sql\nSELECT S.COMMUNITY_AREA_NAME, S.SAFETY_SCORE, C.PER_CAPITA_INCOME FROM CHICAGO_PUBLIC_SCHOOLS S, CENSUS_DATA C \nWHERE S.COMMUNITY_AREA_NUMBER = C.COMMUNITY_AREA_NUMBER AND S.SAFETY_SCORE = 1;"
        }, 
        {
            "source": "Copyright &copy; 2018 [cognitiveclass.ai](cognitiveclass.ai?utm_source=bducopyrightlink&utm_medium=dswb&utm_campaign=bdu). This notebook and its source code are released under the terms of the [MIT License](https://bigdatauniversity.com/mit-license/).\n", 
            "cell_type": "markdown", 
            "metadata": {}
        }
    ], 
    "metadata": {
        "kernelspec": {
            "display_name": "Python 3.5", 
            "name": "python3", 
            "language": "python"
        }, 
        "widgets": {
            "state": {}, 
            "version": "1.1.2"
        }, 
        "language_info": {
            "mimetype": "text/x-python", 
            "nbconvert_exporter": "python", 
            "version": "3.5.5", 
            "name": "python", 
            "file_extension": ".py", 
            "pygments_lexer": "ipython3", 
            "codemirror_mode": {
                "version": 3, 
                "name": "ipython"
            }
        }
    }, 
    "nbformat": 4
}
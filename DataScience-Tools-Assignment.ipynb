{
    "nbformat_minor": 1, 
    "cells": [
        {
            "source": "# My Jupyter Notebook on IBM Data Science Experience", 
            "cell_type": "markdown", 
            "metadata": {
                "collapsed": true
            }
        }, 
        {
            "source": "**Neville Fernandes** <br/> Application Developer\n", 
            "cell_type": "markdown", 
            "metadata": {}
        }, 
        {
            "source": "_I am intrested in data science because it allows me to create value (business value) for my clients, make informed choices and put me in the category of cool band of developers._", 
            "cell_type": "markdown", 
            "metadata": {}
        }, 
        {
            "source": "### Program -  ASCII Art ###", 
            "cell_type": "markdown", 
            "metadata": {}
        }, 
        {
            "source": "import sys\n!{sys.executable} -m pip install pyfiglet\n\nimport pyfiglet\nprint(pyfiglet.figlet_format('Hello World !'))", 
            "cell_type": "code", 
            "metadata": {}, 
            "outputs": [
                {
                    "output_type": "stream", 
                    "name": "stdout", 
                    "text": "Requirement not upgraded as not directly required: pyfiglet in /opt/conda/envs/DSX-Python35/lib/python3.5/site-packages\n _   _      _ _        __        __         _     _   _ \n| | | | ___| | | ___   \\ \\      / /__  _ __| | __| | | |\n| |_| |/ _ \\ | |/ _ \\   \\ \\ /\\ / / _ \\| '__| |/ _` | | |\n|  _  |  __/ | | (_) |   \\ V  V / (_) | |  | | (_| | |_|\n|_| |_|\\___|_|_|\\___/     \\_/\\_/ \\___/|_|  |_|\\__,_| (_)\n                                                        \n\n"
                }
            ], 
            "execution_count": 3
        }, 
        {
            "source": "---\n\nWhat I liked about this tool\n\n* Mardown capability, quick annotation for any code snippets \n* Non Linear code execution capability, easy for conditional executions \n\nDificulties of writing above code (in jupyter)\n1. Messy Dependency Management \n2. Irregular Code flow execution\n3. Troubling Async code execution \n4. I/O dificulties\n\n***\n\nConnect with me on [LinkedIn](https://www.linkedin.com/in/nevfdes)\n   \n> Create Collaborate Celebrate.\n  \n***\n\n<style>\ntable {float:left}\n</style>\n\n| Activities | Action | Comments|\n|:----|:----|:----:|\n|Create a sample notebook| Done| Easy Enough|\n|Load Data assets | Not Required| |\n|Write a markdown cell| Done| That was cool|\n|Write a code snippet| Done | It is fun|\n___\n\n", 
            "cell_type": "markdown", 
            "metadata": {}
        }, 
        {
            "source": "", 
            "cell_type": "code", 
            "metadata": {}, 
            "outputs": [], 
            "execution_count": null
        }
    ], 
    "metadata": {
        "kernelspec": {
            "display_name": "Python 3.5", 
            "name": "python3", 
            "language": "python"
        }, 
        "language_info": {
            "mimetype": "text/x-python", 
            "nbconvert_exporter": "python", 
            "version": "3.5.5", 
            "name": "python", 
            "pygments_lexer": "ipython3", 
            "file_extension": ".py", 
            "codemirror_mode": {
                "version": 3, 
                "name": "ipython"
            }
        }
    }, 
    "nbformat": 4
}